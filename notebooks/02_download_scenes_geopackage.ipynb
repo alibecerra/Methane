{
 "cells": [
  {
   "cell_type": "markdown",
   "id": "481a5b32-93eb-4df5-8506-240b8b0e428b",
   "metadata": {},
   "source": [
    "# Filtering and Downloading Scenes as a GeoPackage\n",
    "\n",
    "In this tutorial, we will use the catalog download resource to get the GeoPackage schema, then to discover pages of published scenes from which we will populate an in-memory GeoPackage collection using [fiona](https://github.com/Toblerity/Fiona), and finally we will download the populated GeoPackage. See the [GeoPackage download API documentation](https://api.carbonmapper.org/api/v1/docs#/Data%20Catalog/catalog_api_scene_scenes_download_gpkg).\n",
    "\n",
    "The resource provides the `intersects` parameter, which accepts a feature's GeoJSON geometry and will filter for scenes that intersect the provided geometry. Our GeoJSON is a simplified representation of the state of California. Note that there is an 8,192 byte API URL size limit for requests, hence the simplified GeoJSON. We will also provide a 3-year date range for our query. Because the endpoint is paginated, the `count` returned may differ from the length of the `items` returned."
   ]
  },
  {
   "cell_type": "markdown",
   "id": "622e1345-462c-474c-ad07-09ad2c6e421c",
   "metadata": {},
   "source": [
    "## Installing Requirements\n",
    "\n",
    "For tutorial purposes, we will use IPython's [pip](https://ipython.readthedocs.io/en/stable/interactive/magics.html#magic-pip) magic command to install the [Fiona](https://github.com/Toblerity/Fiona) and [Requests](https://pypi.org/project/requests/) requirements in the current kernel."
   ]
  },
  {
   "cell_type": "code",
   "execution_count": 1,
   "id": "646aa3a5-7ca2-492b-896d-8ec37b271674",
   "metadata": {},
   "outputs": [
    {
     "name": "stdout",
     "output_type": "stream",
     "text": [
      "Defaulting to user installation because normal site-packages is not writeable\n",
      "Collecting fiona\n",
      "  Downloading fiona-1.10.1-cp310-cp310-manylinux_2_17_x86_64.manylinux2014_x86_64.whl (17.3 MB)\n",
      "\u001b[2K     \u001b[38;2;114;156;31m━━━━━━━━━━━━━━━━━━━━━━━━━━━━━━━━━━━━━━━━\u001b[0m \u001b[32m17.3/17.3 MB\u001b[0m \u001b[31m36.0 MB/s\u001b[0m eta \u001b[36m0:00:00\u001b[0mm eta \u001b[36m0:00:01\u001b[0m0:01\u001b[0m:01\u001b[0m\n",
      "\u001b[?25hRequirement already satisfied: requests in /usr/lib/python3/dist-packages (2.25.1)\n",
      "Requirement already satisfied: certifi in /usr/lib/python3/dist-packages (from fiona) (2020.6.20)\n",
      "Collecting click-plugins>=1.0\n",
      "  Downloading click_plugins-1.1.1-py2.py3-none-any.whl (7.5 kB)\n",
      "Collecting cligj>=0.5\n",
      "  Downloading cligj-0.7.2-py3-none-any.whl (7.1 kB)\n",
      "Requirement already satisfied: attrs>=19.2.0 in /usr/lib/python3/dist-packages (from fiona) (21.2.0)\n",
      "Requirement already satisfied: click~=8.0 in /usr/lib/python3/dist-packages (from fiona) (8.0.3)\n",
      "Installing collected packages: cligj, click-plugins, fiona\n",
      "Successfully installed click-plugins-1.1.1 cligj-0.7.2 fiona-1.10.1\n",
      "Note: you may need to restart the kernel to use updated packages.\n"
     ]
    }
   ],
   "source": [
    "%pip install fiona requests"
   ]
  },
  {
   "cell_type": "markdown",
   "id": "b9961ef2-3846-413f-9f61-97525ec7d744",
   "metadata": {},
   "source": [
    "## Requesting an Access Token\n",
    "\n",
    "The catalog download endpoint requires a platform API token. The [STAC token tutorial](https://github.com/carbon-mapper/platform-public/blob/main/tutorials/scoped_token.ipynb) provides a process to create, store, and print a scoped token. The STAC token tutorial can be used to store the token with IPython. If the token exists in IPython storage, we ask to use it. If it hasn't been stored, or the user declines to use it, we ask the user to provide a token.\n",
    "\n",
    "Information about manually creating a scoped token can be found in the tutorials [README](https://github.com/carbon-mapper/platform-public/tree/main/tutorials#api-authentication)."
   ]
  },
  {
   "cell_type": "code",
   "execution_count": 2,
   "id": "ed62bc9a-5e9d-43d1-a4ee-4a39f10f0faf",
   "metadata": {},
   "outputs": [],
   "source": [
    "# Retrieve IPython storage\n",
    "%store -r\n",
    "\n",
    "# Try to get a scoped token\n",
    "try:\n",
    "    # The token can be retrieved from IPython magic storage if the user elected to store it in the STAC token tutorial\n",
    "    token = cm_scoped_token[\"token_value\"]\n",
    "except NameError:\n",
    "    # The token does not exist in magic storage\n",
    "    token = None\n",
    "else:\n",
    "    # The token exists in magic storage\n",
    "    if input(\"Existing scoped token found in IPython storage. Would you like to use it? (Y/n)? \").lower() != \"y\":\n",
    "        token = None\n",
    "finally:\n",
    "    if not token:\n",
    "        # Allow the token value to be provided by the user if it was not found in magic storage\n",
    "        token = input(\"Enter your Carbon Mapper platform API scoped token: \")\n",
    "\n",
    "if not token:\n",
    "    raise ValueError(\"A scoped token is required for this tutorial.\")"
   ]
  },
  {
   "cell_type": "markdown",
   "id": "fc28f899-bab3-4345-a4b2-04f2c8308832",
   "metadata": {},
   "source": [
    "## Filtering and Downloading Scenes"
   ]
  },
  {
   "cell_type": "code",
   "execution_count": 3,
   "id": "bdd75143-6fbc-4a83-8ac3-6701c0f89c76",
   "metadata": {},
   "outputs": [
    {
     "name": "stdout",
     "output_type": "stream",
     "text": [
      "Downloading features.\n",
      "Added 1000 features to scenes GeoPackage.\n",
      "Added 1000 features to scenes GeoPackage.\n",
      "Added 383 features to scenes GeoPackage.\n"
     ]
    }
   ],
   "source": [
    "import os\n",
    "import pathlib\n",
    "\n",
    "import requests\n",
    "from fiona import Feature\n",
    "from fiona.io import MemoryFile\n",
    "\n",
    "geopackage_path = \"catalog/download/scenes.gpkg\"\n",
    "base_url = \"https://api.carbonmapper.org/api/v1/\"\n",
    "payload = {\n",
    "    \"intersects\": '{\"type\": \"MultiPolygon\", \"coordinates\": [[[[-124.346415, 42.041457], [-125.981193, 41.962186], [-124.607620, 31.606420], [-114.338004, 32.468868], [-114.068746, 41.913432], [-124.346415, 42.041457]]]]}',\n",
    "    \"datetime\": \"2020-01-01/2023-12-31\",\n",
    "    \"offset\": 0,\n",
    "}\n",
    "# Full path at which to store the file\n",
    "# If empty, will save to current working directory\n",
    "file_path = pathlib.Path(\"\")\n",
    "file_name = \"scenes.gpkg\"\n",
    "abs_path = os.path.abspath(file_path / file_name)\n",
    "headers = {\"Authorization\": f\"Bearer {token}\"}\n",
    "print(\"Downloading features.\")\n",
    "\n",
    "# Request a GeoPackage with 0 features\n",
    "response = requests.get(\n",
    "    f\"{base_url}{geopackage_path}\",\n",
    "    params={\"limit\": 0},\n",
    "    headers=headers,\n",
    ")\n",
    "response.raise_for_status()\n",
    "\n",
    "# Get the schema from the empty GeoPackage\n",
    "# The filename argument is not required, but is included to suppress a confusing warning\n",
    "with MemoryFile(response.content, filename=\"schema_file.gpkg\") as schema_file:\n",
    "    with schema_file.open() as schema_collection:\n",
    "        schema = schema_collection.schema\n",
    "\n",
    "with MemoryFile() as dst_file:\n",
    "    # Instantiate an  in-memory GeoPackage using the previously retrieved schema\n",
    "    with dst_file.open(mode=\"w\", driver=\"GPKG\", schema=schema) as dst_collection:\n",
    "        while True:\n",
    "            # Download a page of features\n",
    "            response = requests.get(\n",
    "                f\"{base_url}{geopackage_path}\",\n",
    "                params=payload,\n",
    "                headers=headers,\n",
    "            )\n",
    "            response.raise_for_status()\n",
    "\n",
    "            count = int(response.headers[\"pagination-count\"])\n",
    "            limit = int(response.headers[\"pagination-limit\"])\n",
    "            offset = int(response.headers[\"pagination-offset\"])\n",
    "\n",
    "            # Load the source GeoPackage into an in-memory file\n",
    "            with MemoryFile(response.content) as src_file:\n",
    "                with src_file.open() as src_collection:\n",
    "                    # Add the source features into the destination collection\n",
    "                    for feature in src_collection:\n",
    "                        dst_collection.write(Feature(geometry=feature.geometry, properties=feature.properties))\n",
    "\n",
    "                    print(f\"Added {len(list(src_collection))} features to scenes GeoPackage.\") \n",
    "\n",
    "\n",
    "            payload[\"offset\"] = int(offset + limit)\n",
    "\n",
    "            # No more records to download\n",
    "            if payload[\"offset\"] >= count:\n",
    "                break\n",
    "\n",
    "    confirm = input(\"{action} file ({abs_path})? Y/n\".format(\n",
    "        action=\"Overwrite\" if pathlib.Path(abs_path).is_file() else \"Save\",\n",
    "        abs_path=abs_path,\n",
    "    ))\n",
    "\n",
    "    if confirm.lower() == \"y\":\n",
    "        # Save the GeoPackage to disk\n",
    "        with open(abs_path, \"wb\") as file:\n",
    "            file.write(dst_file.getbuffer())\n",
    "\n",
    "        print(f\"Scenes downloaded to {abs_path}.\")\n"
   ]
  },
  {
   "cell_type": "code",
   "execution_count": null,
   "id": "dd198a47",
   "metadata": {},
   "outputs": [],
   "source": []
  }
 ],
 "metadata": {
  "kernelspec": {
   "display_name": "Python 3",
   "language": "python",
   "name": "python3"
  },
  "language_info": {
   "codemirror_mode": {
    "name": "ipython",
    "version": 3
   },
   "file_extension": ".py",
   "mimetype": "text/x-python",
   "name": "python",
   "nbconvert_exporter": "python",
   "pygments_lexer": "ipython3",
   "version": "3.10.12"
  }
 },
 "nbformat": 4,
 "nbformat_minor": 5
}
