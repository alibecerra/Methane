{
 "cells": [
  {
   "cell_type": "markdown",
   "id": "ea057330-46bd-43df-a580-1922e568f341",
   "metadata": {},
   "source": [
    "# Filtering and Downloading Plumes as a CSV\n",
    "\n",
    "In this tutorial, we will use the plume CSV download resource to discover and download a collection of plumes in CSV format. See the [plume CSV API documentation](https://api.carbonmapper.org/api/v1/docs#tag/Catalog/operation/catalog_api_plume_plume_csv) for more information about the resource and its parameters.\n",
    "\n",
    "The resource provides the `intersects` parameter, which accepts a feature's GeoJSON geometry and will filter for plumes that intersect the provided geometry. Our GeoJSON is a simplified representation of the state of California. Note that there is an 8,192 byte API URL size limit for requests, hence the simplified GeoJSON. We will also provide a 3-year date range for our query."
   ]
  },
  {
   "cell_type": "markdown",
   "id": "5ba1956a-0130-4836-ae5c-74d5840a0005",
   "metadata": {},
   "source": [
    "## Installing Requirements\n",
    "\n",
    "For tutorial purposes, we will use IPython's [pip](https://ipython.readthedocs.io/en/stable/interactive/magics.html#magic-pip) magic command to install the [Requests](https://pypi.org/project/requests/) requirement in the current kernel."
   ]
  },
  {
   "cell_type": "code",
   "execution_count": 1,
   "id": "b6d40888-b514-4642-b57a-0bf1c04c7d18",
   "metadata": {},
   "outputs": [
    {
     "name": "stdout",
     "output_type": "stream",
     "text": [
      "Defaulting to user installation because normal site-packages is not writeable\n",
      "Requirement already satisfied: requests in /usr/lib/python3/dist-packages (2.25.1)\n",
      "Note: you may need to restart the kernel to use updated packages.\n"
     ]
    }
   ],
   "source": [
    "%pip install requests"
   ]
  },
  {
   "cell_type": "markdown",
   "id": "f0b6d805-14d0-4405-b159-7da6e85ce190",
   "metadata": {},
   "source": [
    "## Requesting an Access Token\n",
    "\n",
    "The catalog download endpoint requires a platform API token. The [STAC token tutorial](https://github.com/carbon-mapper/platform-public/blob/main/tutorials/scoped_token.ipynb) provides a process to create, store, and print a scoped token. The STAC token tutorial can be used to store the token with IPython. If the token exists in IPython storage, we ask to use it. If it hasn't been stored, or the user declines to use it, we ask the user to provide a token.\n",
    "\n",
    "Information about manually creating a scoped token can be found in the tutorials [README](https://github.com/carbon-mapper/platform-public/tree/main/tutorials#api-authentication)."
   ]
  },
  {
   "cell_type": "code",
   "execution_count": 1,
   "id": "555e4c4c-9e49-46a2-bd9a-20a5c32af4fd",
   "metadata": {},
   "outputs": [
    {
     "name": "stdout",
     "output_type": "stream",
     "text": [
      "Existing scoped token found in IPython storage. Would you like to use it? (Y/n)? y\n"
     ]
    }
   ],
   "source": [
    "# Retrieve IPython storage\n",
    "%store -r\n",
    "\n",
    "# Try to get a scoped token\n",
    "try:\n",
    "    # The token can be retrieved from IPython magic storage if the user elected to store it in the STAC token tutorial\n",
    "    token = cm_scoped_token[\"token_value\"]\n",
    "except NameError:\n",
    "    # The token does not exist in magic storage\n",
    "    token = None\n",
    "else:\n",
    "    # The token exists in magic storage\n",
    "    if input(\"Existing scoped token found in IPython storage. Would you like to use it? (Y/n)? \").lower() != \"y\":\n",
    "        token = None\n",
    "finally:\n",
    "    if not token:\n",
    "        # Allow the token value to be provided by the user if it was not found in magic storage\n",
    "        token = input(\"Enter your Carbon Mapper platform API scoped token: \")\n",
    "\n",
    "if not token:\n",
    "    raise ValueError(\"A scoped token is required for this tutorial.\")"
   ]
  },
  {
   "cell_type": "markdown",
   "id": "493ab520-ea3f-47f8-b4c7-3e2eff5db027",
   "metadata": {},
   "source": [
    "## Filtering and Downloading Plumes"
   ]
  },
  {
   "cell_type": "code",
   "execution_count": 12,
   "id": "6288e501-ba39-44b9-8b8f-fe5baaa94c19",
   "metadata": {
    "scrolled": false
   },
   "outputs": [
    {
     "ename": "HTTPError",
     "evalue": "401 Client Error: Unauthorized for url: https://api.carbonmapper.org/api/v1/catalog/plume-csv?intersects=type&intersects=coordinates&datetime=2020-01-01%2F2023-12-31&limit=1000",
     "output_type": "error",
     "traceback": [
      "\u001b[0;31m---------------------------------------------------------------------------\u001b[0m",
      "\u001b[0;31mHTTPError\u001b[0m                                 Traceback (most recent call last)",
      "\u001b[0;32m/tmp/ipykernel_5315/886736928.py\u001b[0m in \u001b[0;36m<module>\u001b[0;34m\u001b[0m\n\u001b[1;32m     48\u001b[0m         \u001b[0mheaders\u001b[0m\u001b[0;34m=\u001b[0m\u001b[0;34m{\u001b[0m\u001b[0;34m\"Authorization\"\u001b[0m\u001b[0;34m:\u001b[0m \u001b[0;34mf\"Bearer {token}\"\u001b[0m\u001b[0;34m}\u001b[0m\u001b[0;34m,\u001b[0m\u001b[0;34m\u001b[0m\u001b[0;34m\u001b[0m\u001b[0m\n\u001b[1;32m     49\u001b[0m     )\n\u001b[0;32m---> 50\u001b[0;31m     \u001b[0mresponse\u001b[0m\u001b[0;34m.\u001b[0m\u001b[0mraise_for_status\u001b[0m\u001b[0;34m(\u001b[0m\u001b[0;34m)\u001b[0m\u001b[0;34m\u001b[0m\u001b[0;34m\u001b[0m\u001b[0m\n\u001b[0m\u001b[1;32m     51\u001b[0m \u001b[0;34m\u001b[0m\u001b[0m\n\u001b[1;32m     52\u001b[0m     \u001b[0;32mif\u001b[0m \u001b[0;32mnot\u001b[0m \u001b[0mhasattr\u001b[0m\u001b[0;34m(\u001b[0m\u001b[0mpayload\u001b[0m\u001b[0;34m,\u001b[0m \u001b[0;34m\"limit\"\u001b[0m\u001b[0;34m)\u001b[0m\u001b[0;34m:\u001b[0m\u001b[0;34m\u001b[0m\u001b[0;34m\u001b[0m\u001b[0m\n",
      "\u001b[0;32m/usr/lib/python3/dist-packages/requests/models.py\u001b[0m in \u001b[0;36mraise_for_status\u001b[0;34m(self)\u001b[0m\n\u001b[1;32m    941\u001b[0m \u001b[0;34m\u001b[0m\u001b[0m\n\u001b[1;32m    942\u001b[0m         \u001b[0;32mif\u001b[0m \u001b[0mhttp_error_msg\u001b[0m\u001b[0;34m:\u001b[0m\u001b[0;34m\u001b[0m\u001b[0;34m\u001b[0m\u001b[0m\n\u001b[0;32m--> 943\u001b[0;31m             \u001b[0;32mraise\u001b[0m \u001b[0mHTTPError\u001b[0m\u001b[0;34m(\u001b[0m\u001b[0mhttp_error_msg\u001b[0m\u001b[0;34m,\u001b[0m \u001b[0mresponse\u001b[0m\u001b[0;34m=\u001b[0m\u001b[0mself\u001b[0m\u001b[0;34m)\u001b[0m\u001b[0;34m\u001b[0m\u001b[0;34m\u001b[0m\u001b[0m\n\u001b[0m\u001b[1;32m    944\u001b[0m \u001b[0;34m\u001b[0m\u001b[0m\n\u001b[1;32m    945\u001b[0m     \u001b[0;32mdef\u001b[0m \u001b[0mclose\u001b[0m\u001b[0;34m(\u001b[0m\u001b[0mself\u001b[0m\u001b[0;34m)\u001b[0m\u001b[0;34m:\u001b[0m\u001b[0;34m\u001b[0m\u001b[0;34m\u001b[0m\u001b[0m\n",
      "\u001b[0;31mHTTPError\u001b[0m: 401 Client Error: Unauthorized for url: https://api.carbonmapper.org/api/v1/catalog/plume-csv?intersects=type&intersects=coordinates&datetime=2020-01-01%2F2023-12-31&limit=1000"
     ]
    }
   ],
   "source": [
    "import csv\n",
    "import os\n",
    "from pathlib import Path\n",
    "import json\n",
    "import requests\n",
    "\n",
    "base_url = \"https://api.carbonmapper.org/api/v1/\"\n",
    "# If empty, downloaded CSV will be saved to current working directory\n",
    "file_path = Path(\"\")\n",
    "file_name = \"plumes_CAandNV.csv\"\n",
    "abs_path = os.path.abspath(file_path / file_name)\n",
    "\n",
    "\n",
    "\n",
    "payload = {\"intersects\": {\"type\": \"MultiPolygon\", \"coordinates\": [[[[-87.359296, 35.00118], [-85.606675, 34.984749], [-85.431413, 34.124869], [-85.184951, 32.859696], [-85.069935, 32.580372], [-84.960397, 32.421541], [-85.004212, 32.322956], [-84.889196, 32.262709], [-85.058981, 32.13674], [-85.053504, 32.01077], [-85.141136, 31.840985], [-85.042551, 31.539753], [-85.113751, 31.27686], [-85.004212, 31.003013], [-85.497137, 30.997536], [-87.600282, 30.997536], [-87.633143, 30.86609], [-87.408589, 30.674397], [-87.446927, 30.510088], [-87.37025, 30.427934], [-87.518128, 30.280057], [-87.655051, 30.247195], [-87.90699, 30.411504], [-87.934375, 30.657966], [-88.011052, 30.685351], [-88.10416, 30.499135], [-88.137022, 30.318396], [-88.394438, 30.367688], [-88.471115, 31.895754], [-88.241084, 33.796253], [-88.098683, 34.891641], [-88.202745, 34.995703], [-87.359296, 35.00118]]]]}, \"datetime\": \"2020-01-01/2023-12-31\", \"limit\": 1000}\n",
    "\n",
    "\n",
    "\n",
    "\n",
    "\n",
    "# An empty string to hold CSV data as it is downloaded\n",
    "plumes_csv = \"\"\n",
    "\n",
    "# Loop until all pages are retrieved\n",
    "while True:\n",
    "    response = requests.get(\n",
    "        f\"{base_url}catalog/plume-csv\",\n",
    "        params=payload,\n",
    "        headers={\"Authorization\": f\"Bearer {token}\"},\n",
    "    )\n",
    "    response.raise_for_status()\n",
    "\n",
    "    if not hasattr(payload, \"limit\"):\n",
    "        # Set limit from response if not provided in payload\n",
    "        payload[\"limit\"] = int(response.headers[\"pagination-limit\"])\n",
    "    \n",
    "    if not hasattr(payload, \"offset\"):\n",
    "        # Get field names and data in first loop\n",
    "        plumes_csv += response.content.decode(\"utf-8\").strip()\n",
    "    else:\n",
    "        # Don't add field names to existing CSV\n",
    "        plumes_csv += response.content.decode(\"utf-8\").strip().split(\"\\r\\n\", 1)[1]\n",
    "\n",
    "    print(\n",
    "        \"Downloaded {total} of {count} records.\".format(\n",
    "            total=len(plumes_csv.strip().split(\"\\r\\n\")[1:]),\n",
    "            count=response.headers[\"pagination-count\"],\n",
    "        )\n",
    "    )\n",
    "\n",
    "    # Configure payload to request next page\n",
    "    payload[\"offset\"] = int(response.headers[\"pagination-offset\"]) + payload[\"limit\"]\n",
    "\n",
    "    # No more records to download\n",
    "    if payload[\"offset\"] >= int(response.headers[\"pagination-count\"]):\n",
    "        break\n",
    "\n",
    "confirm = input(\"{action} file ({abs_path})? Y/n\".format(\n",
    "    action=\"Overwrite\" if Path(abs_path).is_file() else \"Save\",\n",
    "    abs_path=abs_path,\n",
    "))\n",
    "\n",
    "if confirm.lower() == \"y\":\n",
    "    # Save the plumes to disk\n",
    "    with open(abs_path, \"w\") as file:\n",
    "        file.write(plumes_csv)\n",
    "\n",
    "    print(f\"Plumes downloaded to {abs_path}.\")"
   ]
  },
  {
   "cell_type": "code",
   "execution_count": null,
   "id": "b4951c52",
   "metadata": {},
   "outputs": [],
   "source": []
  }
 ],
 "metadata": {
  "kernelspec": {
   "display_name": "Python 3 (ipykernel)",
   "language": "python",
   "name": "python3"
  },
  "language_info": {
   "codemirror_mode": {
    "name": "ipython",
    "version": 3
   },
   "file_extension": ".py",
   "mimetype": "text/x-python",
   "name": "python",
   "nbconvert_exporter": "python",
   "pygments_lexer": "ipython3",
   "version": "3.10.12"
  }
 },
 "nbformat": 4,
 "nbformat_minor": 5
}
